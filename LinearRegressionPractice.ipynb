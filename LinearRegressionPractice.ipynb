{
  "nbformat": 4,
  "nbformat_minor": 0,
  "metadata": {
    "colab": {
      "provenance": []
    },
    "kernelspec": {
      "name": "python3",
      "display_name": "Python 3"
    },
    "language_info": {
      "name": "python"
    }
  },
  "cells": [
    {
      "cell_type": "code",
      "execution_count": null,
      "metadata": {
        "id": "4UzMRNC3OFbu"
      },
      "outputs": [],
      "source": [
        "import torch\n",
        "import torchvision\n",
        "from torchvision.datasets import MNIST\n",
        "from torchvision.transforms import ToTensor\n",
        "from torch.utils.data import random_split\n",
        "from torch.utils.data import DataLoader\n",
        "import torch.nn as nn\n",
        "import torch.nn.functional as F\n",
        "import matplotlib.pyplot as plt\n",
        "%matplotlib inline"
      ]
    },
    {
      "cell_type": "code",
      "source": [
        "device = \"cuda\" if torch.cuda.is_available() else \"cpu\""
      ],
      "metadata": {
        "id": "eNyetVKivqhf"
      },
      "execution_count": null,
      "outputs": []
    },
    {
      "cell_type": "code",
      "source": [
        "train_data=MNIST(\n",
        "    root=\"data\",\n",
        "    train=True,\n",
        "    download=True,\n",
        "    transform=ToTensor()\n",
        ")\n",
        "test_data=MNIST(\n",
        "    root=\"data\",\n",
        "    train=False,\n",
        "    download=True,\n",
        "    transform=ToTensor()\n",
        ")\n",
        "print(len(train_data),len(test_data))"
      ],
      "metadata": {
        "colab": {
          "base_uri": "https://localhost:8080/"
        },
        "id": "JqN57t3maWYs",
        "outputId": "bd01a464-999f-45bf-9944-2c8d3987b970"
      },
      "execution_count": null,
      "outputs": [
        {
          "output_type": "stream",
          "name": "stdout",
          "text": [
            "60000 10000\n"
          ]
        }
      ]
    },
    {
      "cell_type": "code",
      "source": [
        "image,label=train_data[0]\n",
        "image.shape"
      ],
      "metadata": {
        "colab": {
          "base_uri": "https://localhost:8080/"
        },
        "id": "ZF11a7pvhAQM",
        "outputId": "f985b29d-1854-4119-fac8-e754dd7f53c8"
      },
      "execution_count": null,
      "outputs": [
        {
          "output_type": "execute_result",
          "data": {
            "text/plain": [
              "torch.Size([1, 28, 28])"
            ]
          },
          "metadata": {},
          "execution_count": 64
        }
      ]
    },
    {
      "cell_type": "code",
      "source": [
        "train_ds,val_ds=random_split(train_data,[50000,10000])\n",
        "len(train_ds),len(val_ds)"
      ],
      "metadata": {
        "colab": {
          "base_uri": "https://localhost:8080/"
        },
        "id": "vc-MDCzYbinG",
        "outputId": "56493b19-130e-4087-8ba3-068c518b6b72"
      },
      "execution_count": null,
      "outputs": [
        {
          "output_type": "execute_result",
          "data": {
            "text/plain": [
              "(50000, 10000)"
            ]
          },
          "metadata": {},
          "execution_count": 65
        }
      ]
    },
    {
      "cell_type": "code",
      "source": [
        "batch_size=128\n",
        "train_loader=DataLoader(train_ds,batch_size,shuffle=True)\n",
        "val_loader=DataLoader(val_ds,batch_size)"
      ],
      "metadata": {
        "id": "5L0obh0Tdofw"
      },
      "execution_count": null,
      "outputs": []
    },
    {
      "cell_type": "code",
      "source": [
        "def accuracy(outputs, labels):\n",
        "    _, preds = torch.max(outputs, dim=1)\n",
        "    return torch.tensor(torch.sum(preds == labels).item() / len(preds))"
      ],
      "metadata": {
        "id": "ZqGCgxhXnu5o"
      },
      "execution_count": null,
      "outputs": []
    },
    {
      "cell_type": "code",
      "source": [
        "def fit(epochs,lr,model,train_loader,val_loader):\n",
        "  optimizer=torch.optim.SGD(model.parameters(),lr)\n",
        "  history=[]\n",
        "  for epoch in range(epochs):\n",
        "    for batch in train_loader:\n",
        "      loss=model.training_step(batch)\n",
        "      loss.backward()\n",
        "      optimizer.step()\n",
        "      optimizer.zero_grad()\n",
        "    result=evaluate(model,val_loader)\n",
        "    model.epoch_end(epoch,result)\n",
        "    history.append(result)\n",
        "  return history"
      ],
      "metadata": {
        "id": "Olr_dFYRfTAX"
      },
      "execution_count": null,
      "outputs": []
    },
    {
      "cell_type": "code",
      "source": [
        "def evaluate(model,val_loader):\n",
        "  outputs=[model.validation_step(batch) for batch in val_loader]\n",
        "  return model.validation_epoch_end(outputs)"
      ],
      "metadata": {
        "id": "joP4B6GJmLH6"
      },
      "execution_count": null,
      "outputs": []
    },
    {
      "cell_type": "code",
      "source": [
        "class MyNN(nn.Module):\n",
        "  def __init__ (self):\n",
        "    super().__init__()\n",
        "    self.linear=nn.Linear(28*28,10)\n",
        "    self.relu=nn.ReLU()\n",
        "  def forward(self,x):\n",
        "    x=x.reshape(-1,784)\n",
        "    out=self.linear(x)\n",
        "    return out\n",
        "  def training_step(self,batch):\n",
        "    images,labels=batch\n",
        "    out=self(images)\n",
        "    loss=F.cross_entropy(out,labels)\n",
        "    return loss\n",
        "  def validation_step(self,batch):\n",
        "     images,labels=batch\n",
        "     out=self(images)\n",
        "     loss=F.cross_entropy(out,labels)\n",
        "     acc=accuracy(out,labels)\n",
        "     return {'val_loss':loss,\"val_acc\":acc}\n",
        "  def validation_epoch_end(self,outputs):\n",
        "    batch_losses=[x['val_loss'] for x in outputs]\n",
        "    epoch_loss=torch.stack(batch_losses).mean()\n",
        "    batch_accs=[x['val_acc'] for x in outputs]\n",
        "    epoch_acc=torch.stack(batch_accs).mean()\n",
        "    return {'val_loss':epoch_loss.item(),'val_acc':epoch_acc.item()}\n",
        "  def epoch_end(self,epoch,result):\n",
        "    print(\"Epoch [{}], val_loss: {:.4f}, val_acc: {:.4f}\".format(epoch, result['val_loss'], result['val_acc']))\n",
        "model=MyNN()"
      ],
      "metadata": {
        "id": "1XVrItNSgg9j"
      },
      "execution_count": null,
      "outputs": []
    },
    {
      "cell_type": "code",
      "source": [
        "result1=evaluate(model,val_loader)\n",
        "result1"
      ],
      "metadata": {
        "colab": {
          "base_uri": "https://localhost:8080/"
        },
        "id": "WlYNMs67rUpQ",
        "outputId": "530a8f35-e6d7-4d26-a90b-6e188c768b8a"
      },
      "execution_count": null,
      "outputs": [
        {
          "output_type": "execute_result",
          "data": {
            "text/plain": [
              "{'val_loss': 2.3093972206115723, 'val_acc': 0.14636075496673584}"
            ]
          },
          "metadata": {},
          "execution_count": 71
        }
      ]
    },
    {
      "cell_type": "code",
      "source": [
        "h1=fit(5,0.001,model,train_loader,val_loader)"
      ],
      "metadata": {
        "colab": {
          "base_uri": "https://localhost:8080/"
        },
        "id": "R6O04peasDYR",
        "outputId": "3bab9c14-fcbc-44a6-e6c3-c39a992611ef"
      },
      "execution_count": null,
      "outputs": [
        {
          "output_type": "stream",
          "name": "stdout",
          "text": [
            "Epoch [0], val_loss: 1.9370, val_acc: 0.6351\n",
            "Epoch [1], val_loss: 1.6712, val_acc: 0.7199\n",
            "Epoch [2], val_loss: 1.4741, val_acc: 0.7544\n",
            "Epoch [3], val_loss: 1.3256, val_acc: 0.7760\n",
            "Epoch [4], val_loss: 1.2114, val_acc: 0.7888\n"
          ]
        }
      ]
    },
    {
      "cell_type": "code",
      "source": [
        "h2=fit(15,0.001,model,train_loader,val_loader)"
      ],
      "metadata": {
        "colab": {
          "base_uri": "https://localhost:8080/"
        },
        "id": "-iFO-7CzsdtL",
        "outputId": "d2675124-6fe0-409e-a6e2-e3ecec3d5eeb"
      },
      "execution_count": null,
      "outputs": [
        {
          "output_type": "stream",
          "name": "stdout",
          "text": [
            "Epoch [0], val_loss: 1.1218, val_acc: 0.7999\n",
            "Epoch [1], val_loss: 1.0498, val_acc: 0.8070\n",
            "Epoch [2], val_loss: 0.9910, val_acc: 0.8119\n",
            "Epoch [3], val_loss: 0.9419, val_acc: 0.8165\n",
            "Epoch [4], val_loss: 0.9004, val_acc: 0.8203\n",
            "Epoch [5], val_loss: 0.8648, val_acc: 0.8231\n",
            "Epoch [6], val_loss: 0.8339, val_acc: 0.8280\n",
            "Epoch [7], val_loss: 0.8069, val_acc: 0.8316\n",
            "Epoch [8], val_loss: 0.7830, val_acc: 0.8338\n",
            "Epoch [9], val_loss: 0.7617, val_acc: 0.8371\n",
            "Epoch [10], val_loss: 0.7425, val_acc: 0.8390\n",
            "Epoch [11], val_loss: 0.7254, val_acc: 0.8406\n",
            "Epoch [12], val_loss: 0.7097, val_acc: 0.8429\n",
            "Epoch [13], val_loss: 0.6954, val_acc: 0.8452\n",
            "Epoch [14], val_loss: 0.6822, val_acc: 0.8460\n"
          ]
        }
      ]
    }
  ]
}